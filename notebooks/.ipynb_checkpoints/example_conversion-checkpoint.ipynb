{
 "cells": [
  {
   "cell_type": "code",
   "execution_count": 12,
   "metadata": {},
   "outputs": [],
   "source": [
    "import pandas as pd\n",
    "import pyarrow as pa\n",
    "import pyarrow.parquet as pq\n",
    "import json\n",
    "import os\n",
    "chd = os.chdir(f\"{os.environ['HOME']}/projects/aws2open/\")"
   ]
  },
  {
   "cell_type": "code",
   "execution_count": 7,
   "metadata": {},
   "outputs": [
    {
     "name": "stdout",
     "output_type": "stream",
     "text": [
      "{'Amazon RDS': {'alternatives': ['MySQL', 'PostgreSQL', 'MariaDB']}, 'Amazon Aurora': {'alternatives': ['MySQL', 'PostgreSQL']}, 'Amazon ElastiCache': {'alternatives': ['Memcached', 'Redis']}, 'Amazon Athena': {'alternatives': ['Presto', 'Apache Spark']}, 'Amazon CloudFormation': {'alternatives': ['Terraform', 'Pulumi', 'Ansible']}, 'Amazon CloudFront': {'alternatives': ['Fastly', 'Incapsula', 'MaxCDN', 'Cloudflare']}, 'Amazon Cognito': {'alternatives': ['Auth0', 'Okta', 'Keycloak']}, 'Amazon CodePipeline': {'alternatives': ['CircleCI', 'Jenkins', 'Bamboo', 'Github Actions']}, 'Amazon Connect': {'alternatives': ['Twilio', 'Zendesk', 'RingCentral', 'Avaya', 'Genesys']}, 'Amazon DynamoDB': {'alternatives': ['MongoDB']}, 'Amazon EBS': {'alternatives': ['Rook', 'Minio', 'Storj', 'OpenEBS']}, 'Amazon EMR': {'alternatives': ['Hadoop', 'Databricks', 'Snowflake']}, 'Amazon Kinesis': {'alternatives': ['Kafka', 'Spark', 'Storm']}, 'Amazon Lambda': {'alternatives': ['Serverless']}, 'Amazon Lightsail': {'alternatives': ['Digital Ocean', 'Linode', 'Heroku']}, 'Amazon Redshift': {'alternatives': ['Hadoop']}, 'Amazon S3': {'alternatives': ['Minio', 'Rook']}, 'Amazon SNS': {'alternatives': ['Twilio', 'Kafka']}, 'Amazon SQS': {'alternatives': ['Redis', 'Kafka', 'RabbitMQ', 'ActiveMQ']}, 'Amazon WAF': {'alternatives': ['Cloudflare', 'Incapsula', 'pfSense', 'Wazuh']}, 'Amazon Storage Gateway': {'alternatives': ['restic', 'Borg']}}\n"
     ]
    }
   ],
   "source": [
    "with open('json/keys.json') as f:\n",
    "    data = json.load(f)\n",
    "print(data)"
   ]
  },
  {
   "cell_type": "code",
   "execution_count": 9,
   "metadata": {},
   "outputs": [
    {
     "name": "stdout",
     "output_type": "stream",
     "text": [
      "dict_keys(['Amazon RDS', 'Amazon Aurora', 'Amazon ElastiCache', 'Amazon Athena', 'Amazon CloudFormation', 'Amazon CloudFront', 'Amazon Cognito', 'Amazon CodePipeline', 'Amazon Connect', 'Amazon DynamoDB', 'Amazon EBS', 'Amazon EMR', 'Amazon Kinesis', 'Amazon Lambda', 'Amazon Lightsail', 'Amazon Redshift', 'Amazon S3', 'Amazon SNS', 'Amazon SQS', 'Amazon WAF', 'Amazon Storage Gateway'])\n"
     ]
    }
   ],
   "source": [
    "print(data.keys())"
   ]
  },
  {
   "cell_type": "code",
   "execution_count": 15,
   "metadata": {},
   "outputs": [
    {
     "name": "stdout",
     "output_type": "stream",
     "text": [
      "        Amazon RDS_alternatives Amazon Aurora_alternatives  \\\n",
      "0  [MySQL, PostgreSQL, MariaDB]        [MySQL, PostgreSQL]   \n",
      "\n",
      "  Amazon ElastiCache_alternatives Amazon Athena_alternatives  \\\n",
      "0              [Memcached, Redis]     [Presto, Apache Spark]   \n",
      "\n",
      "  Amazon CloudFormation_alternatives           Amazon CloudFront_alternatives  \\\n",
      "0       [Terraform, Pulumi, Ansible]  [Fastly, Incapsula, MaxCDN, Cloudflare]   \n",
      "\n",
      "  Amazon Cognito_alternatives             Amazon CodePipeline_alternatives  \\\n",
      "0     [Auth0, Okta, Keycloak]  [CircleCI, Jenkins, Bamboo, Github Actions]   \n",
      "\n",
      "                      Amazon Connect_alternatives  \\\n",
      "0  [Twilio, Zendesk, RingCentral, Avaya, Genesys]   \n",
      "\n",
      "  Amazon DynamoDB_alternatives  ...          Amazon EMR_alternatives  \\\n",
      "0                    [MongoDB]  ...  [Hadoop, Databricks, Snowflake]   \n",
      "\n",
      "  Amazon Kinesis_alternatives Amazon Lambda_alternatives  \\\n",
      "0       [Kafka, Spark, Storm]               [Serverless]   \n",
      "\n",
      "     Amazon Lightsail_alternatives Amazon Redshift_alternatives  \\\n",
      "0  [Digital Ocean, Linode, Heroku]                     [Hadoop]   \n",
      "\n",
      "  Amazon S3_alternatives Amazon SNS_alternatives  \\\n",
      "0          [Minio, Rook]         [Twilio, Kafka]   \n",
      "\n",
      "              Amazon SQS_alternatives  \\\n",
      "0  [Redis, Kafka, RabbitMQ, ActiveMQ]   \n",
      "\n",
      "                   Amazon WAF_alternatives Amazon Storage Gateway_alternatives  \n",
      "0  [Cloudflare, Incapsula, pfSense, Wazuh]                      [restic, Borg]  \n",
      "\n",
      "[1 rows x 21 columns]\n"
     ]
    }
   ],
   "source": [
    "print(pd.json_normalize(data, sep=\"_\"))"
   ]
  },
  {
   "cell_type": "code",
   "execution_count": 23,
   "metadata": {},
   "outputs": [],
   "source": [
    "# we dont need to normalize in this case, we can just load and read json into a data frame \n",
    "# and then export as a parquet using pyarrow.parquet (pq)\n",
    "\n",
    "mydf = pd.read_json(\"json/keys.json\", orient='records', dtype='dict')\n",
    "mydf"
   ]
  },
  {
   "cell_type": "code",
   "execution_count": 25,
   "metadata": {},
   "outputs": [],
   "source": [
    "table_from_pandas = pa.Table.from_pandas(mydf)"
   ]
  },
  {
   "cell_type": "code",
   "execution_count": 26,
   "metadata": {},
   "outputs": [],
   "source": [
    "pq.write_table(table_from_pandas, 'parquet/keys.parquet')"
   ]
  },
  {
   "cell_type": "code",
   "execution_count": null,
   "metadata": {},
   "outputs": [],
   "source": [
    "# check the folder and make sure the file is there and correct by running parquet-tools dump keys.parquet"
   ]
  }
 ],
 "metadata": {
  "kernelspec": {
   "display_name": "Python 3",
   "language": "python",
   "name": "python3"
  },
  "language_info": {
   "codemirror_mode": {
    "name": "ipython",
    "version": 3
   },
   "file_extension": ".py",
   "mimetype": "text/x-python",
   "name": "python",
   "nbconvert_exporter": "python",
   "pygments_lexer": "ipython3",
   "version": "3.7.7"
  }
 },
 "nbformat": 4,
 "nbformat_minor": 4
}
